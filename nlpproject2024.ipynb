{
 "cells": [
  {
   "cell_type": "code",
   "execution_count": null,
   "metadata": {
    "colab": {
     "base_uri": "https://localhost:8080/"
    },
    "execution": {
     "iopub.execute_input": "2024-12-07T08:07:01.759395Z",
     "iopub.status.busy": "2024-12-07T08:07:01.758711Z",
     "iopub.status.idle": "2024-12-07T08:07:12.9227Z",
     "shell.execute_reply": "2024-12-07T08:07:12.921796Z",
     "shell.execute_reply.started": "2024-12-07T08:07:01.759355Z"
    },
    "id": "3BVFcKryfz2e",
    "outputId": "8c8339d0-dd2f-4432-e5d2-70dadf751e50",
    "trusted": true
   },
   "outputs": [],
   "source": [
    "!pip install selenium"
   ]
  },
  {
   "cell_type": "code",
   "execution_count": null,
   "metadata": {
    "_cell_guid": "b1076dfc-b9ad-4769-8c92-a6c4dae69d19",
    "_uuid": "8f2839f25d086af736a60e9eeb907d3b93b6e0e5",
    "colab": {
     "base_uri": "https://localhost:8080/"
    },
    "execution": {
     "iopub.execute_input": "2024-12-07T08:09:49.105912Z",
     "iopub.status.busy": "2024-12-07T08:09:49.104896Z",
     "iopub.status.idle": "2024-12-07T08:13:28.282633Z",
     "shell.execute_reply": "2024-12-07T08:13:28.28172Z",
     "shell.execute_reply.started": "2024-12-07T08:09:49.105874Z"
    },
    "id": "uRwieX3afz2g",
    "outputId": "1d5a74d7-9ba7-48c8-8709-9de6935f25c1",
    "trusted": true
   },
   "outputs": [],
   "source": [
    "import glob\n",
    "from selenium import webdriver\n",
    "from selenium.webdriver.firefox.options import Options\n",
    "from selenium.webdriver.firefox.service import Service\n",
    "from selenium.webdriver.common.by import By\n",
    "from selenium.webdriver.common.action_chains import ActionChains\n",
    "import os\n",
    "import time\n",
    "\n",
    "firefox_options = Options()\n",
    "firefox_options.add_argument(\"--headless\")\n",
    "firefox_options.set_preference(\"browser.download.folderList\", 2) \n",
    "download_dir = os.path.join(os.getcwd(), \"downloads\")\n",
    "firefox_options.set_preference(\"browser.download.dir\", download_dir)\n",
    "firefox_options.set_preference(\"browser.helperApps.neverAsk.saveToDisk\", \"application/pdf\")\n",
    "firefox_options.set_preference(\"pdfjs.disabled\", True)  # Disable PDF viewer\n",
    "\n",
    "# Ensure the download directory exists\n",
    "os.makedirs(download_dir, exist_ok=True)\n",
    "service = Service()\n",
    "driver = webdriver.Firefox(service=service, options=firefox_options)\n",
    "driver.set_window_size(1920, 1080)\n",
    "\n",
    "stock_codes = ['ABB', 'POWERINDIA', 'ABMINTLTD', 'ACC', 'ACCELYA', 'ACCORD', 'ACCURACY','ACEINTEG', 'ACE', 'ADANIENT', 'ADANIGAS', 'ADANIGREEN', 'ADANIPORTS', 'ADANIPOWER', 'ADANITRANS']\n",
    "\n",
    "def download_pdf(pdf_link_element, stock_code, financial_year):\n",
    "    try:\n",
    "        pdf_url = pdf_link_element.get_attribute(\"href\")\n",
    "        print(f\"Attempting download for {stock_code} - Financial Year: {financial_year}\")\n",
    "        print(f\"Link found: {pdf_url}\")\n",
    "        # Scroll to element to ensure it's in the viewport\n",
    "        driver.execute_script(\"arguments[0].scrollIntoView({block: 'center'});\", pdf_link_element)\n",
    "        time.sleep(1)  \n",
    "\n",
    "        ActionChains(driver).move_to_element(pdf_link_element).click().perform()\n",
    "        time.sleep(5)  # Wait for download\n",
    "\n",
    "        # Check for the latest downloaded PDF in the download directory\n",
    "        downloaded_files = glob.glob(os.path.join(download_dir, \"*.pdf\"))\n",
    "        if downloaded_files:\n",
    "            latest_file = max(downloaded_files, key=os.path.getctime)  # Get the most recent file\n",
    "            target_file = os.path.join(download_dir, f\"{stock_code}_{financial_year}.pdf\")\n",
    "            os.rename(latest_file, target_file)\n",
    "            print(f\"Downloaded PDF saved as {target_file}\")\n",
    "        else:\n",
    "            print(f\"PDF for {stock_code} ({financial_year}) did not download as expected.\")\n",
    "    except Exception as e:\n",
    "        print(f\"Error downloading PDF for {stock_code} ({financial_year}): {e}\")\n",
    "\n",
    "# Process each stock code\n",
    "for stock_code in stock_codes:\n",
    "    try:\n",
    "        url = f'https://www.screener.in/company/{stock_code}/consolidated/'\n",
    "        driver.get(url)\n",
    "        time.sleep(5)  # Wait for page load\n",
    "        pdf_links = driver.find_elements(By.CSS_SELECTOR, \"div.documents.annual-reports a[href*='.pdf']\")\n",
    "\n",
    "        if not pdf_links:\n",
    "            print(f\"No PDF links found for stock {stock_code}\")\n",
    "            continue\n",
    "\n",
    "        for i, pdf_link in enumerate(pdf_links[:2]):  # Limit downloads per stock \n",
    "            financial_year = pdf_link.text.strip().replace(\" \", \"_\")\n",
    "            download_pdf(pdf_link, stock_code, financial_year)\n",
    "    except Exception as e:\n",
    "        print(f\"An error occurred for stock {stock_code}: {e}\")\n",
    "driver.quit()\n"
   ]
  },
  {
   "cell_type": "code",
   "execution_count": null,
   "metadata": {
    "colab": {
     "base_uri": "https://localhost:8080/"
    },
    "id": "NIUhR0jfiTk-",
    "outputId": "dcced228-e9ff-44f9-c152-46076c862ffc"
   },
   "outputs": [],
   "source": [
    "!pip install pdfplumber"
   ]
  },
  {
   "cell_type": "code",
   "execution_count": null,
   "metadata": {
    "colab": {
     "base_uri": "https://localhost:8080/"
    },
    "id": "MqvniKu1G7eQ",
    "outputId": "c09652d3-8736-45d4-c38c-49ddb0cae1eb"
   },
   "outputs": [],
   "source": [
    "!pip install nltk"
   ]
  },
  {
   "cell_type": "code",
   "execution_count": null,
   "metadata": {
    "colab": {
     "base_uri": "https://localhost:8080/"
    },
    "execution": {
     "iopub.execute_input": "2024-12-07T09:36:28.707615Z",
     "iopub.status.busy": "2024-12-07T09:36:28.706984Z",
     "iopub.status.idle": "2024-12-07T09:36:28.718543Z",
     "shell.execute_reply": "2024-12-07T09:36:28.71766Z",
     "shell.execute_reply.started": "2024-12-07T09:36:28.707581Z"
    },
    "id": "yhYWa7iVfz2h",
    "outputId": "58f970a3-1b74-413e-d1f5-3643a3ba8009",
    "trusted": true
   },
   "outputs": [],
   "source": [
    "import os\n",
    "import pdfplumber\n",
    "from tqdm import tqdm\n",
    "from pdfminer.pdfparser import PDFSyntaxError  # Import the error for explicit handling\n",
    "\n",
    "def extract_text_from_pdf(pdf_path):\n",
    "    text = \"\"\n",
    "    with pdfplumber.open(pdf_path) as pdf:\n",
    "        for page in pdf.pages:\n",
    "            page_text = page.extract_text()\n",
    "            if page_text:\n",
    "                text += page_text + \"\\n\"\n",
    "    return text\n",
    "\n",
    "input_dir = \"./downloads\"\n",
    "output_dir = \"./textfiles\"\n",
    "os.makedirs(output_dir, exist_ok=True)\n",
    "\n",
    "pdf_files = [f for f in os.listdir(input_dir) if f.endswith(\".pdf\")]\n",
    "\n",
    "print(f\"Found {len(pdf_files)} PDF files to process.\")\n",
    "\n",
    "for filename in tqdm(pdf_files, desc=\"Extracting text from PDFs\", unit=\"pdf\"):\n",
    "    txt_filename = filename.replace(\".pdf\", \".txt\")\n",
    "    txt_path = os.path.join(output_dir, txt_filename)\n",
    "\n",
    "    # Check if text file already exists\n",
    "    if os.path.exists(txt_path):\n",
    "        continue\n",
    "\n",
    "    pdf_path = os.path.join(input_dir, filename)\n",
    "    try:\n",
    "        text = extract_text_from_pdf(pdf_path)\n",
    "    except PDFSyntaxError:\n",
    "        print(f\"Skipping {filename}: Not a valid PDF file or corrupted.\")\n",
    "        continue\n",
    "    except Exception as e:\n",
    "        print(f\"Skipping {filename}: An unexpected error occurred: {e}\")\n",
    "        continue\n",
    "\n",
    "    with open(txt_path, \"w\", encoding=\"utf-8\") as f:\n",
    "        f.write(text)\n",
    "\n"
   ]
  },
  {
   "cell_type": "markdown",
   "metadata": {
    "id": "hoALun8ZvGQg"
   },
   "source": []
  },
  {
   "cell_type": "code",
   "execution_count": null,
   "metadata": {
    "colab": {
     "base_uri": "https://localhost:8080/"
    },
    "id": "mn1n5hf03NgI",
    "outputId": "167e7d2d-12ab-4772-a42d-b76a23d18c0a"
   },
   "outputs": [],
   "source": [
    "!pip install transformers tqdm"
   ]
  },
  {
   "cell_type": "code",
   "execution_count": null,
   "metadata": {
    "id": "qgO33Y9f8oaf"
   },
   "outputs": [],
   "source": [
    "import re\n",
    "from transformers import AutoTokenizer, AutoModelForSeq2SeqLM, pipeline\n",
    "from tqdm import tqdm"
   ]
  },
  {
   "cell_type": "code",
   "execution_count": null,
   "metadata": {
    "id": "xaJcvDOV8uMU"
   },
   "outputs": [
    {
     "name": "stderr",
     "output_type": "stream",
     "text": [
      "/Users/aasrithmareddy/Library/Python/3.9/lib/python/site-packages/urllib3/__init__.py:35: NotOpenSSLWarning: urllib3 v2 only supports OpenSSL 1.1.1+, currently the 'ssl' module is compiled with 'LibreSSL 2.8.3'. See: https://github.com/urllib3/urllib3/issues/3020\n",
      "  warnings.warn(\n",
      "/Users/aasrithmareddy/Library/Python/3.9/lib/python/site-packages/tqdm/auto.py:21: TqdmWarning: IProgress not found. Please update jupyter and ipywidgets. See https://ipywidgets.readthedocs.io/en/stable/user_install.html\n",
      "  from .autonotebook import tqdm as notebook_tqdm\n"
     ]
    }
   ],
   "source": [
    "import re\n",
    "import torch\n",
    "import nltk\n",
    "from nltk.tokenize import sent_tokenize\n",
    "from transformers import pipeline, logging\n",
    "from tqdm import tqdm\n",
    "from rouge_score import rouge_scorer\n",
    "from bert_score import score as bert_score\n",
    "import textstat\n",
    "from sentence_transformers import SentenceTransformer, util\n",
    "from collections import Counter\n",
    "\n",
    "# Download punkt for sentence tokenization quietly\n",
    "nltk.download('punkt', quiet=True)\n",
    "# Suppress detailed logging from transformers\n",
    "logging.set_verbosity_error()\n",
    "def extract_metrics(text):\n",
    "    \"\"\"\n",
    "    Extract financial metrics from the text.\n",
    "    If patterns don't match, returns 'N/A'.\n",
    "    \"\"\"\n",
    "    metrics_patterns = {\n",
    "        \"Revenue\": r\"Revenue(?:\\s*[:–-]?\\s*[₹]?\\s*([\\d,\\.]+(?:\\s*(crore|lakh|million|billion))?))\",\n",
    "        \"Profit After Tax (PAT)\": r\"Profit\\s*After\\s*Tax\\s*\\(PAT\\)\\s*[:–-]?\\s*[₹]?\\s*([\\d,\\.]+(?:\\s*(crore|lakh|million|billion))?)\",\n",
    "        \"EBITDA\": r\"EBITDA\\s*[:–-]?\\s*[₹]?\\s*([\\d,\\.]+(?:\\s*(crore|lakh|million|billion))?)\",\n",
    "    }\n",
    "\n",
    "    extracted = {}\n",
    "    for metric, pattern in metrics_patterns.items():\n",
    "        match = re.search(pattern, text, flags=re.IGNORECASE)\n",
    "        if match:\n",
    "            value = match.group(1)\n",
    "            unit = match.group(2) if match.group(2) else \"\"\n",
    "            extracted[metric] = f\"{value} {unit}\".strip()\n",
    "        else:\n",
    "            extracted[metric] = \"N/A\"\n",
    "    return extracted\n",
    "\n",
    "def extract_relevant_text(file_path):\n",
    "    \"\"\"\n",
    "    Extract lines containing financial keywords from the file.\n",
    "    \"\"\"\n",
    "    keywords = [\"revenue\", \"profit\", \"ebitda\", \"expenses\", \"cash flow\", \"equity\", \"debt\"]\n",
    "    relevant_lines = []\n",
    "    with open(file_path, 'r', encoding='utf-8') as f:\n",
    "        for line in f:\n",
    "            if any(kw in line.lower() for kw in keywords):\n",
    "                relevant_lines.append(line.strip())\n",
    "    return \" \".join(relevant_lines)\n",
    "def summarize_text(text, model=\"sshleifer/distilbart-cnn-12-6\", chunk_size=1024):\n",
    "    \"\"\"\n",
    "    Summarize text using a small, fast model.\n",
    "    Dynamically adjust max_length based on input sentence length to avoid warnings.\n",
    "    \"\"\"\n",
    "    device = 0 if torch.cuda.is_available() else -1\n",
    "    summarizer = pipeline(\"summarization\", model=model, device=device)\n",
    "    # Split text into manageable chunks\n",
    "    chunks = [text[i:i+chunk_size] for i in range(0, len(text), chunk_size)]\n",
    "    summaries = []\n",
    "\n",
    "    for chunk in tqdm(chunks, desc=\"Summarizing\", unit=\"chunk\"):\n",
    "        # Dynamically set max_length (about double the input length but capped at 150)\n",
    "        input_tokens = len(summarizer.tokenizer.encode(chunk))\n",
    "        max_len = min(150, input_tokens * 2)\n",
    "        summary = summarizer(chunk, max_length=max_len, min_length=20, truncation=True)[0]['summary_text']\n",
    "        summaries.append(summary)\n",
    "    return \" \".join(summaries)\n",
    "def evaluate_summary_with_original(summary, original_text):\n",
    "    \"\"\"\n",
    "    Evaluate the summary against the original financial report.\n",
    "    \"\"\"\n",
    "    # Readability metrics for the summary\n",
    "    readability_scores = {\n",
    "        \"Flesch Reading Ease\": textstat.flesch_reading_ease(summary),\n",
    "        \"Gunning Fog Index\": textstat.gunning_fog(summary),\n",
    "        \"Smog Index\": textstat.smog_index(summary),\n",
    "        \"Automated Readability Index\": textstat.automated_readability_index(summary),\n",
    "    }\n",
    "\n",
    "    # Semantic similarity using SentenceTransformer\n",
    "    model = SentenceTransformer('all-MiniLM-L6-v2')\n",
    "    original_embedding = model.encode(original_text, convert_to_tensor=True)\n",
    "    summary_embedding = model.encode(summary, convert_to_tensor=True)\n",
    "    semantic_similarity = util.pytorch_cos_sim(original_embedding, summary_embedding).item()\n",
    "    # Conciseness\n",
    "    original_word_count = len(original_text.split())\n",
    "    summary_word_count = len(summary.split())\n",
    "    conciseness_ratio = summary_word_count / original_word_count\n",
    "    # Compression ratio\n",
    "    compression_ratio = original_word_count / summary_word_count\n",
    "    # Redundancy: Count repeated phrases in the summary\n",
    "    words = summary.split()\n",
    "    redundancy = sum(count - 1 for count in Counter(words).values() if count > 1)\n",
    "\n",
    "    return {\n",
    "        \"Readability Scores\": readability_scores,\n",
    "        \"Semantic Similarity\": semantic_similarity,\n",
    "        \"Conciseness Ratio\": conciseness_ratio,\n",
    "        \"Compression Ratio\": compression_ratio,\n",
    "        \"Redundancy (Repeated Words)\": redundancy,\n",
    "    }\n",
    "\n",
    "def process_financial_report_with_eval(file_path):\n",
    "    \"\"\"\n",
    "    Process the financial report and evaluate the generated summary.\n",
    "    \"\"\"\n",
    "    # Read the entire financial report as input\n",
    "    with open(file_path, 'r', encoding='utf-8') as f:\n",
    "        full_text = f.read()\n",
    "\n",
    "    # Extract relevant lines and summarize\n",
    "    relevant_text = extract_relevant_text(file_path)\n",
    "    if not relevant_text.strip():\n",
    "        print(\"No relevant sections identified.\")\n",
    "        return\n",
    "    summary = summarize_text(relevant_text)\n",
    "\n",
    "    # Extract financial metrics\n",
    "    metrics = extract_metrics(relevant_text)\n",
    "    # Evaluate the summary against the original financial report\n",
    "    evaluation = evaluate_summary_with_original(summary, full_text)\n",
    "\n",
    "    # Print results\n",
    "    print(\"\\n==================== Evaluation ====================\")\n",
    "    print(\"Summary Evaluation Metrics:\")\n",
    "    for metric, score in evaluation.items():\n",
    "        if isinstance(score, dict):\n",
    "            for sub_metric, sub_score in score.items():\n",
    "                print(f\"{sub_metric}: {sub_score}\")\n",
    "        else:\n",
    "            print(f\"{metric}: {score}\")\n",
    "    \n",
    "    print(\"\\n==================== Results ====================\")\n",
    "    print(\"Extracted Financial Metrics:\")\n",
    "    for k, v in metrics.items():\n",
    "        print(f\"{k}: {v}\")\n",
    "\n",
    "    print(\"\\nGenerated Summary:\")\n",
    "    print(summary)\n",
    "    print(\"====================================================\")\n"
   ]
  },
  {
   "cell_type": "code",
   "execution_count": null,
   "metadata": {
    "colab": {
     "base_uri": "https://localhost:8080/"
    },
    "id": "2WxMF4pQHEkV",
    "outputId": "a469a148-e2ad-4c9c-9f79-61e00d5aae53"
   },
   "outputs": [],
   "source": [
    "nltk.download('punkt_tab')"
   ]
  },
  {
   "cell_type": "code",
   "execution_count": null,
   "metadata": {
    "colab": {
     "base_uri": "https://localhost:8080/"
    },
    "id": "EX_g6AXpACZG",
    "outputId": "6a187701-df06-4b5d-c44e-64e65e7ccbd3"
   },
   "outputs": [
    {
     "name": "stderr",
     "output_type": "stream",
     "text": [
      "/Users/aasrithmareddy/Library/Python/3.9/lib/python/site-packages/urllib3/__init__.py:35: NotOpenSSLWarning: urllib3 v2 only supports OpenSSL 1.1.1+, currently the 'ssl' module is compiled with 'LibreSSL 2.8.3'. See: https://github.com/urllib3/urllib3/issues/3020\n",
      "  warnings.warn(\n",
      "Summarizing: 100%|██████████| 76/76 [05:31<00:00,  4.36s/chunk]\n"
     ]
    },
    {
     "name": "stdout",
     "output_type": "stream",
     "text": [
      "\n",
      "==================== Evaluation ====================\n",
      "Summary Evaluation Metrics:\n",
      "Flesch Reading Ease: 44.14\n",
      "Gunning Fog Index: 10.45\n",
      "Smog Index: 14.4\n",
      "Automated Readability Index: 12.8\n",
      "Semantic Similarity: 0.4513867199420929\n",
      "Conciseness Ratio: 0.01371094537391655\n",
      "Compression Ratio: 72.93443104969127\n",
      "Redundancy (Repeated Words): 2295\n",
      "\n",
      "==================== Results ====================\n",
      "Extracted Financial Metrics:\n",
      "Revenue: .\n",
      "Profit After Tax (PAT): N/A\n",
      "EBITDA: 25\n",
      "\n",
      "Generated Summary:\n",
      " Adani family's equity stake in the Adani portfolio companies . NDTV profit industry-leading profitability . EBITDA and PAT of AWL was impacted on account of hedges .  This exceptional financial performance drove our PAT to a record high EBITDA in FY 2023-24 of ` 40,129 crore, marking a substantial 70.8% growth . We have continued to deploy latest 33% growth in revenue from power supply to ` 7,735 crore .  During the year, we tapped into diversified sources to raise equity and debt equity . We increased the debt funding pool with a clear roadmap aligned with the project cash flows . We received an equity investment of enhanced revenues, margins and at sustained high efficiency .  At the heart of our approach is de-risking of projects, ensuring reliable cash flows and accessing low-cost, management framework . This positions us to comfortably manage debt repayment and finance growth surplus cash flows . The high-quality long-term predictable cash flows will further support our run-rate EBITDA of ` 10,462 crore .  Gensuite moderate revenue and operating margins could translate into a loss of prospective revenue . The reliance on long-term debt exposes us to the risk of failure in .  Adverse currency movements may stretch our debt repayment obligations . Increase in forex debt repayment beyond projected estimates . 44% of our long-term debt was in Indian currency as of March 31, 2024 .  Adani Green is committed to balancing profits with ethics and integrity . Cash Profit = PAT + Depreciation + Deferred Tax + Exceptional Items + Distribution to TOTAL (which is part of finance cost as per Total Revenue (A) Revenue from operations 5,133 7,792 9,220 Other Expenses excluding loss on sale of assets and such one-off expenses .  Your Company has recorded revenue from operations to the tune of ` 9,220 crore during the financial year 2023-24 Net profit for the FY 20 23-24 is ` 1,260 crore as compared agencies . The equity authorized share capital of your Company is improvement YOY backed by 95.5% plant availability .  I ssue of equity shares with differential rights as to support and assistance received from the Government of 2.45 crore . Accumulated under review, are given in the notes forming part of the equity shares .  The Company’s EBITDA from power supply has grown at . billion senior debt facility and further added USD 400 Adani Green has a robust analytics-driven O&M approach . The green loan facility, along with the recent equity E .EBITDA margin of 92%. visibility to achieve 50 GW by 2030 .  The consistent industry-leading EBITDA margin is and improve decision-making in project execution . The growth is primarily attributable to and power electronics .  The Equity Shares of the Company are listed with the following stock exchanges:  BSE, where the equity shares of the company are listed . None of the Directors of the . Company holds equity share of the subsidiaries not exceeding 1% per annum .  The Company’s equity shares are frequently traded on the BSE Limited and National Stock Exchange of India Limited . Listing of Debt Securities: on the Wholesale Debt Market Segment of the stock exchanges . Dematerialisation of Shares and Liquidity thereof: The demat security (ISIN) code for the equity share .  CII is a non-government, not-for-profit, industry-led and industry-based organization . committed to India . Cost incurred on well-being measures as a percentage of total revenue of the company .  ‘Auditor’s responsibilities for the audit of the audit . of the cash flow forecasts by comparing them to the value in use, discounted cash flow projections are used ‘Financial Instruments: Disclosures’. e. ‘T here are no dues of goods and services tax, of equity warrants during the year’  Bank of India Act, 1934 (2 of 1934) are not EQUITY AND LIABILITIES Equity and Liabilities 41,383 28,664 Statement of Profit and Loss Revenue from Operations 22 12,001 7,629 Expenses 13,347 8,675 .  Statement of Cash Flow has been prepared under the 'Indirect Method' set out in the \"Indian Accounting Standard\" issued by the Institute of Chartered Accountants of India .  Financial assets that meet criteria for subsequent Classification as debt or equity measurement at amortised cost are measured using Debt and equity instruments issued by the Company effective interest rate (EIR) method . All recognised financial assets are subsequently income and accumulated in equity is recognised measured measured .  Financial Assets at Fair Value through Profit or profit and loss . transaction costs . Financial liabilities at fair value through profit payable is recognised in other equity. instrument . These securities are ranked senior only to the Equity securities are recognised as equity .  Revenue from power supply concluded that revenue from sale of electricity, price of inventories. taxes or other amounts collected from customers. must also be met before revenue is recognised . Revenue also excludes later reclassified to statement of profit or loss .  Past service whether the hedging instrument is highly effective cost is recognised in statement of profit and loss in offsetting changes in fair value or cash flows of the period of a plan amendment . Cash flow hedges Retirement benefit in the form of Provident Fund and cash flows attributable to a recognised asset .  Tax expenses comprises current tax and deferred entities . These are recognised in the statement of profit temporary differences can be controlled and it in equity or in equity .  The profit / (loss) (net off distribution on Unsecured) is measured at the higher of the with the requirements for revenue recognition . The Company reviews the carrying amounts of equity shares outstanding during the year .  Cash flow projections are based on contingencies Investments in Equity Shares of subsidiaries (a) 6,565 6,467 1,00,70,000 Equity Shares as at March 31, 836,688,750 Equity Shares (10,000 equity Shares of Class A (10 Equity Shares) of Class B (10 equity Shares) as at April 31, 11,80,23,700 Equity Shares . 10,000  Equity Shares are 10 Equity Shares for Class A and 10 equity shares for Class B, 10 equity Shares for each of the two classes .  Face 10,000 Equity Shares (10,000 as at March 31, 2023) (Face 20,87,20,000 equity Shares as 1,39,00,000 and 20,000 more shares as at 2023 . Face: 20,00 Equity Shares as at 30,000 (20,500 as at 31 March 31)  Adani Renewable Energy (KA) Limited, 76,53,200 shares (March 31 31, 2023) Adani Wind Energy (Gujarat) Private Limited, 3,32,59,994 shares . Equity Shares of Dinkar Technologies Limited (formerly known as Adani Green Energy (MP) Equity Shares) Other Deemed Equity Investments (valued at Cost) (i)  Compulsorily Convertible Debentures shall be converted into equity shares between the range of 10 to 20 years from the date of issue using conversion ratio which is face value divided by price per equity share as Optionally Con .  Adani Green Energy Twenty Three Limited has invested in two class of Equity Shares having par value of ` 10 per share . Each holder of equity shares is entitled to one vote per share. Class A shares have no voting right but will have Dividend rights .  The Company has only one class of equity shares having par value of ` 10 per share . Each holder of Equity shares is entitled to one vote per share. In the even even even though the Company has fully utilized the amount of ` 3,850 crore towards repayment of debts .  The cash flow hedge reserve represents the cumulative effective portion of gains or losses arising on changes in fair value of hedging instruments entered into for cash flow hedges .  2023 have approved a issuance of 6,31,43,677 Warrants . Each warrant is convertible into one Equity Share of the Company . Rights attached to Warrants can be exercised at hold 3.83% Equity Shares in the Company, on fully diluted basis .  The above expenses are net of capitalised / inventorised / allocated to subsidiaries including step down subsidiaries . Legal and Professional Expenses (net) 51 16 (refer note (i) below) Communication Expenses 7 1 Travelling and Conveyance Expenses 8 3 Insurance Expenses 0 1 Office expenses 0 1 Business Promotional and Advertisement Expenses 11 2 27 .  Market risk is the risk that the fair value of future cash flows of a financial instrument will fluctuate because of I nterest rate risk . Loss before tax as per Statement of Profit and Loss (491) (333) Tax recognised in statement of profit and loss at 55 (5) Disclosure of expenses related to Leases: Low Value and Short Term Lease expenses .  The Company monitors its risk of shortage of funds using cash flow forecasting models . The funding requirements are met through a mixture of equity, perpetual securities, internal fund generation, to meet anticipated funding requirements .  The Company monitors capital on the basis of the net debt to equity Debt 17A and 17B 22,336 13,056 Net debt (A) 16,250 11,950 Total Equity (B) 14,15 and 16 7,498 5,656 . Preference allotment of equity to strategic investors and promoter shareholder through warrants .  All borrowings (including letter of credit) related hedges are accounted for as cash flow hedges . Unbilled revenue primarily relate to the Company’s right to consideration for power supply but not billed as The Company has deferred the revenue against Infrastructure Support Agreement (ISA) Revenue recognised in the reporting period that was included in 1,361 1,308 .  A consideration of binding term sheet with Essel Infra projects Limited on January 17, 2023 for acquisition of acquisition of 50% equity interest in Essel Saurya Urja Company of Rajasthan Limited (ESUCRL) Remaining 50% of equity interest  in ESUCRL is . The remaining 50% interest in the company is  remaining 50% of the equity interest . The return on equity ratio (a/b) is 8.30% and (8.30)% is 0.29% .  The results of audit procedures performed by us and equity in natu are those that, in our profit including other comprehensive income, their to respond to our assessment of the risks of material consolidated cash flows and the consolidated statement misstatement . of changes in equity for the year ended on that date .  Ordinary Equity Shares, `4.50 crore in the form of Class  determine the profit or loss, each component of Equity Shares in ARE9L. equal equity share capital . The Group sells power to various customers in accordance Our audit procedures inc. inc .  Certain customers are making partial payments of respect to revenue in accordance with Ind AS 115 sales invoices raised by the Company and withholding ‘Revenue from Contracts with Customers’  Atements and Consolidated Statement of Profit and of Changes in Equity dealt with by this Report these subsidiaries and an associate for the year (g) Investments accounted for using the Equity Method 5A 420 131 .  1,260 973 items that will not be reclassified to profit or loss in subsequent periods: Items that will be reclassed to profit and loss in future periods: (b) Effective portion of gain / (loss) on cash flow hedge (net) 27 (65) Net profit attributable to: Equity holders of the parent 1,100 974 and (13) (56) Earnings Per Equity Share (EPS) 1,087 918 .  The 'Indirect Method' set out in \"Indian Accounting Standard (Ind AS) 7- Statement of Cash Flows\" issued by the Institute of Chartered Accountants of India . Interest in joint venture is accounted using equity ceases when the Company loses control of the interest of non-controllin .  TOTAL has invested in ARE9L in the form of Ordinary Equity Shares, Class B shares and Compulsory Convertible Debentures . During the previous year, Amigo Energy Joint Stock Company, Vietnam, has acquired 48.8% equity stake in Adani Phuoc Minh equity transactions .  Derecognition profit and loss are recognised immediately in the A n item of property, plant and equipment Consolidated Statement of Profit and Loss . Financial liabilities and equity instruments effective interest rate (EIR) method (except for debt instruments designated as at fair value)  Financial assets that do not meet the amortised securities are recognised as equity as per Ind AS 32. provide for impairment loss and where credit risk . Financial liabilities at fair value through profit payable is recognised in other equity .  The operating cycle is the time between the Revenue from contracts with customers is which are classified as non current assets . Revenue is measured based on the transaction price, h. Foreign currency transactions and translation contract with the customer . Revenue also excludes estimates and assumptions relating to revenue from must also be met before revenue is recognised .  Contract liabilities are recognised as revenue when assets are substantially ready for their intended use statement of profit and loss in the period in which Profit and Loss in the Period in which they occur . Current tax items are recognised in OCI or directly in equity .  Management periodically Statement of Profit and Loss for the period in which that affects neither the accounting profit or loss nor taxable profit . The related Tax expenses comprises current tax and deferred tax .  Cash flow hedges cash flows attributable to a recognised asset or method . Group estimates cash flow projections beyond forecasts . Used a single discount rate to a portfolio of Consolidated Statement of Profit and Loss .  Other Bank deposits certain debt related obligations required under the required to remove the solar power plants located deposits is presented as investing cash flows . ss. accounts for the lease modification by remeasuring consolidated statement of Profit and Loss .  Investments accounted using Equity Method Investments in unquoted Equity Shares of Joint Venture (fully paid) 4,02,82,892 Equity Shares (Previous year) Represents Debt Service Reserve Account .  The Group had fully utilized the amount of ` 3,850 crore towards repayment of debts and other general corporate b. or bad and doubtful debts . Margin Money is pledged / lien against letter of credit, term loans, bonds and other credit facilities and also includes Debt 15 .  The Holding Company has only one class of equity shares having par value of ` 10 per share . Each holder of equity share is entitled to one vote per share. In the event of liquidation of the Company, the holders of the equity amounts will receive a distribution in proportion to the number of shares held by the share holders .  The excess of the value of equity shares has invested ` 3,707 crore in AGE23L through stapled securities in the form of Equity shares, Class B shares and approved a issuance of 6,31,43,677 Warrants, each convertible into fully paid-up Equity Shares of the Holding . ash flow hedge reserve will be reclassified to profit and loss, when the hedged transaction affects the profit . transferred to the Holding Company with appointed date of April 1, 2018 .  Amigo Energy Joint Stock Company, Vietnam, acquired 48.8% equity stake in to Amigo energy Joint Stock Co, Vietnam . The Holding Company treated these CCDs as equity in nature and classified as Non-Controlling Interest attributable to AGE23L and ARE9L .  The facilities are secured by pledge of 76% of Equity shares and CCD held by Adani Green Energy . assets of the Company on paripassu basis .  First paripasu charge by way of assignment of book debts, operating cash flow, receivables, commission, revenue both present and future, all bank accounts including plant and machinery and other assets relating to project and current assets .  These are secured by pledge of 100% Equity Company on paripassu basis . Pledge of 51% equity shares of the Borrower held by Adani Green Energy Limited .  Corporate Guarantee of Adani Green Energy Limited shall exist till 85% of security is created and on pari passu basis . Pledge over 30% equity shares of the Borrower held by Adani . Adani Wind Energy Kutchh One Limited (Promoter Contribution) Pledge and Equitable Assignment over 100% CCDs/ NCD /OCD (Quasi Equity) extended by to equity .  Further Pledge of 51% of the total paid up Equity Shares (with 51 % voting rights) of the Borrower and 51 % of Pledge able Quasi Equity instrument, if any held by Adani of each Borrowers in favour of the relevant Security Trustee(s) over 100 per cent. of the entire equity and Borrowing . The pledge is made to the relevant security Trustee (s) on all the movable assets of its Project(s), book debts, operating cash flows, receivables, commissions, commissions and revenues .  Quasi Equity instrument, if any in the Borrower Company held by Adani Borrowers in favour of the relevant Security Trustee(s) over 100 per cent. of the entire equity . Further pledge of 99% of the shareholding (including Equity and and and all other moveable assets both present and future)  Facility secured by pledge of 51% of Project Equity shares (Including quasi equity which can be pledged) on paripassu basis held by Adani Green Energy Limited. Further, the facility is secured . 51% equity shares of the Borrower held by Promoter, Adani Renewable Energy Holding Three Limited .  Facility is secured by pledge of 51% Equity shares of Project Equity (Equity Shares, CCD) till currency Guarantee of Adani Green Energy Limited, Promoter and Pledge of . 51% promoters’ contribution (equity book debts, Operating cashflow, receivables project accounts) Pledge to be granted by the holders of shares equity .  Pledge over 100% equity shares of held by Borrower in favour of the relevant Security Trustee(s) over 100 per cent. of the entire equity . Pledge 51% Equity shares held by Adani Green Energy book debts, Operating cashflow, receivables project accounts . Pledge at least 51% of total Equity Shares .  The facilities are secured by pledge of 51% of Equity shares commission revenue pertaining to project, present and future . Further secured by Pledge over 51% shares assets of the Company on pari passu basis .  KREL has received the incremental revenue collection as “probable” for “revenue recognition purpose” in line with relevant Ind AS 115 – Revenue from Contracts with customers .  The management has recognized incremental revenue of ` 16 crore and late payment surcharge of ` 5 crore pertaining to past periods up to March 31, 2023 and also recognised incremental revenue as per 24. Revenue from Operations (Contd.) respectively for the same .  The above expenses are net of amount capitalised along with various project costs (including in under construction (a) Interest Expenses on Loans / financial liabilities measured at (ii) T he above expenses (net) include Employee Benefits Expenses, Staff Welfare Expenses and Insurance Expenses .  The year end balances are not necessarily representative of the average debt outstanding during the year . Foreign currency risk is the risk that the fair value of future cash flows of a financial instruments will fluctuate .  Exposure arises primarily due to exchange accrued, etc., would have increased / decreased the Group’s profit or loss before tax as follows . The Group monitors its risk of shortage of funds using cash flow forecasting models .  The funding requirements are met through a mixture of equity, perpetual securities, internal fund generation, debt securities and other long term/short term borrowings . All borrowings (including letter of credit) related hedges are accounted for as cash flow hedges .  Statement of Profit and Loss is as follows: Cash flow Hedge Reserve at the beginning of the year (130) (81) Ineffectiveness recognised in profit and loss - - Cash flow hedge reserve at the end of year (134) (135) Particulars through profit Total (i) Investments in joint venture and associate, accounted using equity method, amounting to ` 420 crore (previous year ` 131)  The above reporting represents Group’s proportionate share in the Statement of Profit and Loss of Mundra Solar Unbilled Revenue 660 627 . The unbilled revenue primarily relate to the Group's right to consideration for work completed but not billed at .  Company has no profits or has inadequate profit, the proportion to their share in the paid-up equity The shareholders at their 4th Annual General Meeting 2024 in the event of absence or inadequacy of profits, in addition to sitting fees and other expenses being paid .  The Company continues to strive for inadequacy of profits for a period of 3 years from Company on a consolidated basis, continues to continue to expect increase in productivity and profits . The and none of the other Directors or Key Managerial Company earns inadequate profit / loss .\n",
      "====================================================\n"
     ]
    }
   ],
   "source": [
    "#Example\n",
    "file_path = \"\"\"./textfiles/ADANIGREEN_Financial_Year_2024\n",
    "from_bse.txt\"\"\"\n",
    "process_financial_report_with_eval(file_path)"
   ]
  },
  {
   "cell_type": "code",
   "execution_count": null,
   "metadata": {},
   "outputs": [],
   "source": []
  }
 ],
 "metadata": {
  "accelerator": "GPU",
  "colab": {
   "gpuType": "T4",
   "name": "nlpproject2024",
   "provenance": []
  },
  "kaggle": {
   "accelerator": "gpu",
   "dataSources": [],
   "dockerImageVersionId": 30787,
   "isGpuEnabled": true,
   "isInternetEnabled": true,
   "language": "python",
   "sourceType": "notebook"
  },
  "kernelspec": {
   "display_name": "Python 3",
   "name": "python3"
  },
  "language_info": {
   "codemirror_mode": {
    "name": "ipython",
    "version": 3
   },
   "file_extension": ".py",
   "mimetype": "text/x-python",
   "name": "python",
   "nbconvert_exporter": "python",
   "pygments_lexer": "ipython3",
   "version": "3.9.6"
  }
 },
 "nbformat": 4,
 "nbformat_minor": 0
}
